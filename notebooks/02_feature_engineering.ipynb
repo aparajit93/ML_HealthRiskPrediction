{
 "cells": [
  {
   "cell_type": "code",
   "execution_count": 1,
   "id": "d74125fe",
   "metadata": {},
   "outputs": [],
   "source": [
    "import pandas as pd\n",
    "import matplotlib.pyplot as plt\n",
    "import seaborn as sns\n",
    "import numpy as np"
   ]
  },
  {
   "cell_type": "markdown",
   "id": "7d9d8f95",
   "metadata": {},
   "source": [
    "### Data Preparation\n",
    "Farmingham risk function will be used to identify the risk likelihood.  \n",
    "Farmingham risk needs the following parameters: age, sex, blood pressure, currently taking blood pressure meds, total cholestrol levels, hdl cholestrol levels, diabetic and smoker.  \n",
    "These columns will be kept and the rest dropped."
   ]
  },
  {
   "cell_type": "code",
   "execution_count": 2,
   "id": "39aa09b6",
   "metadata": {},
   "outputs": [],
   "source": [
    "df_merged = pd.read_csv('../data/df_merged.csv')\n",
    "df = df_merged.copy()"
   ]
  },
  {
   "cell_type": "code",
   "execution_count": 3,
   "id": "88fceeaf",
   "metadata": {},
   "outputs": [],
   "source": [
    "# Rename the columns to be used\n",
    "df = df.rename(columns=\n",
    "               {\n",
    "                   'RIDAGEYR' : 'age',\n",
    "                   'RIAGENDR' : 'sex',\n",
    "                   'LBXTC' : 'total_chol',\n",
    "                   'LBDHDD' : 'hdl_chol',\n",
    "                   'BPQ050A' : 'bp_treated',\n",
    "                   'DIQ010' : 'diabetes',\n",
    "                   'SMQ020' : 'ever_smoked',\n",
    "                   'SMQ040' : 'current_smoke'\n",
    "               })"
   ]
  },
  {
   "cell_type": "code",
   "execution_count": 4,
   "id": "fd24e598",
   "metadata": {},
   "outputs": [],
   "source": [
    "# Calculate mean blood pressure (across 3 readings)\n",
    "df['sbp'] = df[['BPXSY1', 'BPXSY2', 'BPXSY3']].mean(axis=1)\n",
    "\n",
    "# Convert sex to string\n",
    "df['sex'] = df['sex'].map({1: 'M', 2: 'F'})\n",
    "\n",
    "# Convert bp_treated, diabetes to binary\n",
    "df['bp_treated'] = df['bp_treated'].map({1: 1, 2: 0})\n",
    "df['diabetes'] = df['diabetes'].map({1: 1, 2: 0})\n",
    "\n",
    "# Define smoker: 1 if current smoker\n",
    "df['smoker'] = df['current_smoke'].map({1: 1, 2: 0, 7: 0, 9: 0})"
   ]
  },
  {
   "cell_type": "code",
   "execution_count": 5,
   "id": "465f3815",
   "metadata": {},
   "outputs": [
    {
     "data": {
      "text/html": [
       "<div>\n",
       "<style scoped>\n",
       "    .dataframe tbody tr th:only-of-type {\n",
       "        vertical-align: middle;\n",
       "    }\n",
       "\n",
       "    .dataframe tbody tr th {\n",
       "        vertical-align: top;\n",
       "    }\n",
       "\n",
       "    .dataframe thead th {\n",
       "        text-align: right;\n",
       "    }\n",
       "</style>\n",
       "<table border=\"1\" class=\"dataframe\">\n",
       "  <thead>\n",
       "    <tr style=\"text-align: right;\">\n",
       "      <th></th>\n",
       "      <th>SEQN</th>\n",
       "      <th>age</th>\n",
       "      <th>sex</th>\n",
       "      <th>total_chol</th>\n",
       "      <th>hdl_chol</th>\n",
       "      <th>sbp</th>\n",
       "      <th>bp_treated</th>\n",
       "      <th>smoker</th>\n",
       "      <th>diabetes</th>\n",
       "    </tr>\n",
       "  </thead>\n",
       "  <tbody>\n",
       "    <tr>\n",
       "      <th>0</th>\n",
       "      <td>93708.0</td>\n",
       "      <td>66.0</td>\n",
       "      <td>F</td>\n",
       "      <td>209.0</td>\n",
       "      <td>88.0</td>\n",
       "      <td>141.000000</td>\n",
       "      <td>1.0</td>\n",
       "      <td>NaN</td>\n",
       "      <td>NaN</td>\n",
       "    </tr>\n",
       "    <tr>\n",
       "      <th>1</th>\n",
       "      <td>93711.0</td>\n",
       "      <td>56.0</td>\n",
       "      <td>M</td>\n",
       "      <td>238.0</td>\n",
       "      <td>72.0</td>\n",
       "      <td>101.333333</td>\n",
       "      <td>NaN</td>\n",
       "      <td>NaN</td>\n",
       "      <td>0.0</td>\n",
       "    </tr>\n",
       "    <tr>\n",
       "      <th>2</th>\n",
       "      <td>93717.0</td>\n",
       "      <td>22.0</td>\n",
       "      <td>M</td>\n",
       "      <td>213.0</td>\n",
       "      <td>53.0</td>\n",
       "      <td>118.666667</td>\n",
       "      <td>NaN</td>\n",
       "      <td>1.0</td>\n",
       "      <td>0.0</td>\n",
       "    </tr>\n",
       "    <tr>\n",
       "      <th>3</th>\n",
       "      <td>93718.0</td>\n",
       "      <td>45.0</td>\n",
       "      <td>M</td>\n",
       "      <td>152.0</td>\n",
       "      <td>63.0</td>\n",
       "      <td>131.333333</td>\n",
       "      <td>1.0</td>\n",
       "      <td>NaN</td>\n",
       "      <td>0.0</td>\n",
       "    </tr>\n",
       "    <tr>\n",
       "      <th>4</th>\n",
       "      <td>93721.0</td>\n",
       "      <td>60.0</td>\n",
       "      <td>F</td>\n",
       "      <td>122.0</td>\n",
       "      <td>45.0</td>\n",
       "      <td>136.000000</td>\n",
       "      <td>NaN</td>\n",
       "      <td>NaN</td>\n",
       "      <td>0.0</td>\n",
       "    </tr>\n",
       "  </tbody>\n",
       "</table>\n",
       "</div>"
      ],
      "text/plain": [
       "      SEQN   age sex  total_chol  hdl_chol         sbp  bp_treated  smoker  \\\n",
       "0  93708.0  66.0   F       209.0      88.0  141.000000         1.0     NaN   \n",
       "1  93711.0  56.0   M       238.0      72.0  101.333333         NaN     NaN   \n",
       "2  93717.0  22.0   M       213.0      53.0  118.666667         NaN     1.0   \n",
       "3  93718.0  45.0   M       152.0      63.0  131.333333         1.0     NaN   \n",
       "4  93721.0  60.0   F       122.0      45.0  136.000000         NaN     NaN   \n",
       "\n",
       "   diabetes  \n",
       "0       NaN  \n",
       "1       0.0  \n",
       "2       0.0  \n",
       "3       0.0  \n",
       "4       0.0  "
      ]
     },
     "execution_count": 5,
     "metadata": {},
     "output_type": "execute_result"
    }
   ],
   "source": [
    "# Final columns to be used\n",
    "columns_needed = [\n",
    "    'SEQN', 'age', 'sex', 'total_chol', 'hdl_chol',\n",
    "    'sbp', 'bp_treated', 'smoker', 'diabetes'\n",
    "]\n",
    "\n",
    "df = df[columns_needed]\n",
    "df.head()"
   ]
  },
  {
   "cell_type": "code",
   "execution_count": 6,
   "id": "22c1f7e4",
   "metadata": {},
   "outputs": [
    {
     "data": {
      "text/plain": [
       "SEQN             0\n",
       "age              0\n",
       "sex              0\n",
       "total_chol     167\n",
       "hdl_chol       167\n",
       "sbp            148\n",
       "bp_treated    1889\n",
       "smoker        2308\n",
       "diabetes        88\n",
       "dtype: int64"
      ]
     },
     "execution_count": 6,
     "metadata": {},
     "output_type": "execute_result"
    }
   ],
   "source": [
    "# Check for number of missing values\n",
    "df.isnull().sum()"
   ]
  },
  {
   "cell_type": "code",
   "execution_count": 7,
   "id": "c2e4e60c",
   "metadata": {},
   "outputs": [],
   "source": [
    "df.loc[df['diabetes'].isin([7,9]), 'diabetes'] = np.nan #Clean up some stuff I forgot earlier"
   ]
  },
  {
   "cell_type": "code",
   "execution_count": 8,
   "id": "f33a2878",
   "metadata": {},
   "outputs": [
    {
     "name": "stdout",
     "output_type": "stream",
     "text": [
      "<class 'pandas.core.frame.DataFrame'>\n",
      "RangeIndex: 2783 entries, 0 to 2782\n",
      "Data columns (total 9 columns):\n",
      " #   Column      Non-Null Count  Dtype  \n",
      "---  ------      --------------  -----  \n",
      " 0   SEQN        2783 non-null   float64\n",
      " 1   age         2783 non-null   float64\n",
      " 2   sex         2783 non-null   object \n",
      " 3   total_chol  2616 non-null   float64\n",
      " 4   hdl_chol    2616 non-null   float64\n",
      " 5   sbp         2635 non-null   float64\n",
      " 6   bp_treated  894 non-null    float64\n",
      " 7   smoker      475 non-null    float64\n",
      " 8   diabetes    2695 non-null   float64\n",
      "dtypes: float64(8), object(1)\n",
      "memory usage: 195.8+ KB\n"
     ]
    }
   ],
   "source": [
    "df.info()"
   ]
  },
  {
   "cell_type": "code",
   "execution_count": 10,
   "id": "cf17b2c6",
   "metadata": {},
   "outputs": [
    {
     "name": "stdout",
     "output_type": "stream",
     "text": [
      "Original rows: 761\n",
      "Rows after cleaning: 761\n"
     ]
    }
   ],
   "source": [
    "# Very few missing values in toal_chol,hdl_chol, sbp, diabetes columns\n",
    "# bp_treated too critical to impute\n",
    "# Just drop the missing values\n",
    "print(f\"Original rows: {df.shape[0]}\")\n",
    "df = df.dropna(subset=[\n",
    "    'age', 'sex', 'total_chol', 'hdl_chol',\n",
    "    'sbp', 'bp_treated', 'diabetes'\n",
    "])\n",
    "print(f\"Rows after cleaning: {df.shape[0]}\")"
   ]
  },
  {
   "cell_type": "code",
   "execution_count": 11,
   "id": "beb285d3",
   "metadata": {},
   "outputs": [
    {
     "name": "stdout",
     "output_type": "stream",
     "text": [
      "Missing before:\n",
      "SEQN           0.000000\n",
      "age            0.000000\n",
      "sex            0.000000\n",
      "total_chol     0.000000\n",
      "hdl_chol       0.000000\n",
      "sbp            0.000000\n",
      "bp_treated     0.000000\n",
      "smoker        83.837057\n",
      "diabetes       0.000000\n",
      "dtype: float64\n",
      "Missing after:\n",
      "SEQN          0.0\n",
      "age           0.0\n",
      "sex           0.0\n",
      "total_chol    0.0\n",
      "hdl_chol      0.0\n",
      "sbp           0.0\n",
      "bp_treated    0.0\n",
      "smoker        0.0\n",
      "diabetes      0.0\n",
      "dtype: float64\n"
     ]
    }
   ],
   "source": [
    "#Losts of missing values for smoker. Impute using the mode.\n",
    "#Before imputation\n",
    "print(\"Missing before:\")\n",
    "print(df.isnull().mean() * 100)\n",
    "# Imputation using mode\n",
    "df['smoker'] = df['smoker'].fillna(df['smoker'].mode()[0])\n",
    "# After Imputation\n",
    "print(\"Missing after:\")\n",
    "print(df.isnull().mean() * 100)"
   ]
  },
  {
   "cell_type": "code",
   "execution_count": 13,
   "id": "09d32a8d",
   "metadata": {},
   "outputs": [],
   "source": [
    "df = df.reset_index(drop=True)"
   ]
  },
  {
   "cell_type": "markdown",
   "id": "8adce428",
   "metadata": {},
   "source": [
    "### Farmingham Risk"
   ]
  },
  {
   "cell_type": "code",
   "execution_count": 14,
   "id": "e0dfea42",
   "metadata": {},
   "outputs": [],
   "source": [
    "def framingham_risk_score(age, total_chol, hdl_chol, sbp, is_treated_bp, smoker, diabetes, sex):\n",
    "    \"\"\"\n",
    "    Compute Framingham 10-year risk of CVD.\n",
    "    \n",
    "    Parameters:\n",
    "    - age: years\n",
    "    - total_chol: mg/dL\n",
    "    - hdl_chol: mg/dL\n",
    "    - sbp: systolic BP (mm Hg)\n",
    "    - is_treated_bp: 1 if on BP meds, else 0\n",
    "    - smoker: 1 if current smoker, else 0\n",
    "    - diabetes: 1 if diabetic, else 0\n",
    "    - sex: 'M' or 'F'\n",
    "\n",
    "    Returns:\n",
    "    - 10-year CVD risk (probability between 0 and 1)\n",
    "    \"\"\"\n",
    "    \n",
    "    if sex == 'M':\n",
    "        # Coefficients for Men\n",
    "        ln_age = np.log(age)\n",
    "        ln_total_chol = np.log(total_chol)\n",
    "        ln_hdl_chol = np.log(hdl_chol)\n",
    "        ln_sbp = np.log(sbp)\n",
    "        \n",
    "        coeffs = {\n",
    "            'age': 3.06117,\n",
    "            'total_chol': 1.12370,\n",
    "            'hdl_chol': -0.93263,\n",
    "            'sbp_treated': 1.99881,\n",
    "            'sbp_untreated': 1.93303,\n",
    "            'smoker': 0.65451,\n",
    "            'diabetes': 0.57367,\n",
    "            'mean': 23.9802,\n",
    "            'baseline_survival': 0.88936\n",
    "        }\n",
    "        \n",
    "    else:\n",
    "        # Coefficients for Women\n",
    "        ln_age = np.log(age)\n",
    "        ln_total_chol = np.log(total_chol)\n",
    "        ln_hdl_chol = np.log(hdl_chol)\n",
    "        ln_sbp = np.log(sbp)\n",
    "        \n",
    "        coeffs = {\n",
    "            'age': 2.32888,\n",
    "            'total_chol': 1.20904,\n",
    "            'hdl_chol': -0.70833,\n",
    "            'sbp_treated': 2.82263,\n",
    "            'sbp_untreated': 2.76157,\n",
    "            'smoker': 0.52873,\n",
    "            'diabetes': 0.69154,\n",
    "            'mean': 26.1931,\n",
    "            'baseline_survival': 0.95012\n",
    "        }\n",
    "    \n",
    "    sbp_coeff = coeffs['sbp_treated'] if is_treated_bp else coeffs['sbp_untreated']\n",
    "    \n",
    "    # Linear combination of risk factors\n",
    "    risk_score = (\n",
    "        coeffs['age'] * ln_age\n",
    "        + coeffs['total_chol'] * ln_total_chol\n",
    "        + coeffs['hdl_chol'] * ln_hdl_chol\n",
    "        + sbp_coeff * ln_sbp\n",
    "        + coeffs['smoker'] * smoker\n",
    "        + coeffs['diabetes'] * diabetes\n",
    "    )\n",
    "    \n",
    "    # Compute 10-year risk\n",
    "    risk = 1 - coeffs['baseline_survival'] ** np.exp(risk_score - coeffs['mean'])\n",
    "    return risk\n"
   ]
  },
  {
   "cell_type": "code",
   "execution_count": 15,
   "id": "4c9dde03",
   "metadata": {},
   "outputs": [
    {
     "data": {
      "text/html": [
       "<div>\n",
       "<style scoped>\n",
       "    .dataframe tbody tr th:only-of-type {\n",
       "        vertical-align: middle;\n",
       "    }\n",
       "\n",
       "    .dataframe tbody tr th {\n",
       "        vertical-align: top;\n",
       "    }\n",
       "\n",
       "    .dataframe thead th {\n",
       "        text-align: right;\n",
       "    }\n",
       "</style>\n",
       "<table border=\"1\" class=\"dataframe\">\n",
       "  <thead>\n",
       "    <tr style=\"text-align: right;\">\n",
       "      <th></th>\n",
       "      <th>SEQN</th>\n",
       "      <th>framingham_risk</th>\n",
       "    </tr>\n",
       "  </thead>\n",
       "  <tbody>\n",
       "    <tr>\n",
       "      <th>0</th>\n",
       "      <td>93718.0</td>\n",
       "      <td>0.096741</td>\n",
       "    </tr>\n",
       "    <tr>\n",
       "      <th>1</th>\n",
       "      <td>93735.0</td>\n",
       "      <td>0.158174</td>\n",
       "    </tr>\n",
       "    <tr>\n",
       "      <th>2</th>\n",
       "      <td>93742.0</td>\n",
       "      <td>0.812324</td>\n",
       "    </tr>\n",
       "    <tr>\n",
       "      <th>3</th>\n",
       "      <td>93758.0</td>\n",
       "      <td>0.682190</td>\n",
       "    </tr>\n",
       "    <tr>\n",
       "      <th>4</th>\n",
       "      <td>93759.0</td>\n",
       "      <td>0.244564</td>\n",
       "    </tr>\n",
       "  </tbody>\n",
       "</table>\n",
       "</div>"
      ],
      "text/plain": [
       "      SEQN  framingham_risk\n",
       "0  93718.0         0.096741\n",
       "1  93735.0         0.158174\n",
       "2  93742.0         0.812324\n",
       "3  93758.0         0.682190\n",
       "4  93759.0         0.244564"
      ]
     },
     "execution_count": 15,
     "metadata": {},
     "output_type": "execute_result"
    }
   ],
   "source": [
    "df['framingham_risk'] = df.apply(\n",
    "    lambda row: framingham_risk_score(\n",
    "        row['age'],\n",
    "        row['total_chol'],\n",
    "        row['hdl_chol'],\n",
    "        row['sbp'],\n",
    "        row['bp_treated'],\n",
    "        row['smoker'],\n",
    "        row['diabetes'],\n",
    "        row['sex']\n",
    "    ),\n",
    "    axis=1\n",
    ")\n",
    "\n",
    "df[['SEQN', 'framingham_risk']].head()"
   ]
  },
  {
   "cell_type": "code",
   "execution_count": 16,
   "id": "8dbbfeb4",
   "metadata": {},
   "outputs": [
    {
     "data": {
      "text/html": [
       "<div>\n",
       "<style scoped>\n",
       "    .dataframe tbody tr th:only-of-type {\n",
       "        vertical-align: middle;\n",
       "    }\n",
       "\n",
       "    .dataframe tbody tr th {\n",
       "        vertical-align: top;\n",
       "    }\n",
       "\n",
       "    .dataframe thead th {\n",
       "        text-align: right;\n",
       "    }\n",
       "</style>\n",
       "<table border=\"1\" class=\"dataframe\">\n",
       "  <thead>\n",
       "    <tr style=\"text-align: right;\">\n",
       "      <th></th>\n",
       "      <th>framingham_risk</th>\n",
       "      <th>high_risk</th>\n",
       "    </tr>\n",
       "  </thead>\n",
       "  <tbody>\n",
       "    <tr>\n",
       "      <th>0</th>\n",
       "      <td>0.096741</td>\n",
       "      <td>0</td>\n",
       "    </tr>\n",
       "    <tr>\n",
       "      <th>1</th>\n",
       "      <td>0.158174</td>\n",
       "      <td>0</td>\n",
       "    </tr>\n",
       "    <tr>\n",
       "      <th>2</th>\n",
       "      <td>0.812324</td>\n",
       "      <td>1</td>\n",
       "    </tr>\n",
       "    <tr>\n",
       "      <th>3</th>\n",
       "      <td>0.682190</td>\n",
       "      <td>1</td>\n",
       "    </tr>\n",
       "    <tr>\n",
       "      <th>4</th>\n",
       "      <td>0.244564</td>\n",
       "      <td>1</td>\n",
       "    </tr>\n",
       "  </tbody>\n",
       "</table>\n",
       "</div>"
      ],
      "text/plain": [
       "   framingham_risk  high_risk\n",
       "0         0.096741          0\n",
       "1         0.158174          0\n",
       "2         0.812324          1\n",
       "3         0.682190          1\n",
       "4         0.244564          1"
      ]
     },
     "execution_count": 16,
     "metadata": {},
     "output_type": "execute_result"
    }
   ],
   "source": [
    "# Define high risk > 20% 10-year risk\n",
    "df['high_risk'] = (df['framingham_risk'] > 0.20).astype(int)\n",
    "\n",
    "df[['framingham_risk', 'high_risk']].head()"
   ]
  },
  {
   "cell_type": "code",
   "execution_count": 17,
   "id": "4ab8234f",
   "metadata": {},
   "outputs": [],
   "source": [
    "df.to_csv('..\\data\\df.csv', index=False)"
   ]
  }
 ],
 "metadata": {
  "kernelspec": {
   "display_name": "health-risk-prediction",
   "language": "python",
   "name": "python3"
  },
  "language_info": {
   "codemirror_mode": {
    "name": "ipython",
    "version": 3
   },
   "file_extension": ".py",
   "mimetype": "text/x-python",
   "name": "python",
   "nbconvert_exporter": "python",
   "pygments_lexer": "ipython3",
   "version": "3.9.23"
  }
 },
 "nbformat": 4,
 "nbformat_minor": 5
}
